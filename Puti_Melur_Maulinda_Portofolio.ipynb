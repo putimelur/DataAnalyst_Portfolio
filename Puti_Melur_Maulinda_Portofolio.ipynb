{
  "cells": [
    {
      "cell_type": "markdown",
      "id": "553dbe77",
      "metadata": {
        "id": "553dbe77"
      },
      "source": [
        "Author: Puti Melur Maulinda"
      ]
    },
    {
      "cell_type": "markdown",
      "id": "abf05cad",
      "metadata": {
        "id": "abf05cad"
      },
      "source": [
        "# Import Libraries"
      ]
    },
    {
      "cell_type": "code",
      "execution_count": 20,
      "id": "895f458c",
      "metadata": {
        "id": "895f458c"
      },
      "outputs": [],
      "source": [
        "import numpy as np\n",
        "import pandas as pd\n",
        "import matplotlib.pyplot as plt\n",
        "import seaborn as sns"
      ]
    },
    {
      "cell_type": "markdown",
      "id": "baa49998",
      "metadata": {
        "id": "baa49998"
      },
      "source": [
        "# Load Dataset"
      ]
    },
    {
      "cell_type": "code",
      "execution_count": 21,
      "id": "bc091ff6",
      "metadata": {
        "id": "bc091ff6"
      },
      "outputs": [],
      "source": [
        "df = pd.read_csv('loan_customer.csv')"
      ]
    },
    {
      "cell_type": "code",
      "source": [
        "df.head()"
      ],
      "metadata": {
        "colab": {
          "base_uri": "https://localhost:8080/",
          "height": 288
        },
        "id": "5nkAukGJ2xvN",
        "outputId": "9755bf3d-ba28-411a-c6bd-f78d1d79e684"
      },
      "id": "5nkAukGJ2xvN",
      "execution_count": 22,
      "outputs": [
        {
          "output_type": "execute_result",
          "data": {
            "text/plain": [
              "    loan_id  birth_date  phone_number gender married dependents     education  \\\n",
              "0  LP001002  1977-05-15  6.281142e+11   Male      No          0      Graduate   \n",
              "1  LP001003  1979-08-24  6.287764e+11   Male     Yes          1      Graduate   \n",
              "2  LP001005  1991-03-28  6.281192e+11   Male     Yes          0      Graduate   \n",
              "3  LP001006  1980-06-02  6.285634e+10   Male     Yes          0  Not Graduate   \n",
              "4  LP001008  1989-05-19  6.281130e+11   Male      No          0      Graduate   \n",
              "\n",
              "  self_employed  applicant_income  coapplicant_income  loan_amount  \\\n",
              "0            No            5849.0                 0.0       100000   \n",
              "1            No            4583.0              1508.0       128000   \n",
              "2           Yes            3000.0                 0.0        66000   \n",
              "3            No            2583.0              2358.0       120000   \n",
              "4            No            6000.0                 0.0       141000   \n",
              "\n",
              "   loan_term_month  loan_term_year  credit_history has_credit_card  \\\n",
              "0              360              30             1.0             NaN   \n",
              "1              360              30             1.0             NaN   \n",
              "2              360              30             1.0             NaN   \n",
              "3              360              30             1.0             NaN   \n",
              "4              360              30             1.0             NaN   \n",
              "\n",
              "  property_type loan_status  \n",
              "0         house     APPROVE  \n",
              "1        studio      REJECT  \n",
              "2         house     APPROVE  \n",
              "3         house     APPROVE  \n",
              "4         house     APPROVE  "
            ],
            "text/html": [
              "\n",
              "  <div id=\"df-b3992af6-83af-4c23-9f08-ad7266ed8332\">\n",
              "    <div class=\"colab-df-container\">\n",
              "      <div>\n",
              "<style scoped>\n",
              "    .dataframe tbody tr th:only-of-type {\n",
              "        vertical-align: middle;\n",
              "    }\n",
              "\n",
              "    .dataframe tbody tr th {\n",
              "        vertical-align: top;\n",
              "    }\n",
              "\n",
              "    .dataframe thead th {\n",
              "        text-align: right;\n",
              "    }\n",
              "</style>\n",
              "<table border=\"1\" class=\"dataframe\">\n",
              "  <thead>\n",
              "    <tr style=\"text-align: right;\">\n",
              "      <th></th>\n",
              "      <th>loan_id</th>\n",
              "      <th>birth_date</th>\n",
              "      <th>phone_number</th>\n",
              "      <th>gender</th>\n",
              "      <th>married</th>\n",
              "      <th>dependents</th>\n",
              "      <th>education</th>\n",
              "      <th>self_employed</th>\n",
              "      <th>applicant_income</th>\n",
              "      <th>coapplicant_income</th>\n",
              "      <th>loan_amount</th>\n",
              "      <th>loan_term_month</th>\n",
              "      <th>loan_term_year</th>\n",
              "      <th>credit_history</th>\n",
              "      <th>has_credit_card</th>\n",
              "      <th>property_type</th>\n",
              "      <th>loan_status</th>\n",
              "    </tr>\n",
              "  </thead>\n",
              "  <tbody>\n",
              "    <tr>\n",
              "      <th>0</th>\n",
              "      <td>LP001002</td>\n",
              "      <td>1977-05-15</td>\n",
              "      <td>6.281142e+11</td>\n",
              "      <td>Male</td>\n",
              "      <td>No</td>\n",
              "      <td>0</td>\n",
              "      <td>Graduate</td>\n",
              "      <td>No</td>\n",
              "      <td>5849.0</td>\n",
              "      <td>0.0</td>\n",
              "      <td>100000</td>\n",
              "      <td>360</td>\n",
              "      <td>30</td>\n",
              "      <td>1.0</td>\n",
              "      <td>NaN</td>\n",
              "      <td>house</td>\n",
              "      <td>APPROVE</td>\n",
              "    </tr>\n",
              "    <tr>\n",
              "      <th>1</th>\n",
              "      <td>LP001003</td>\n",
              "      <td>1979-08-24</td>\n",
              "      <td>6.287764e+11</td>\n",
              "      <td>Male</td>\n",
              "      <td>Yes</td>\n",
              "      <td>1</td>\n",
              "      <td>Graduate</td>\n",
              "      <td>No</td>\n",
              "      <td>4583.0</td>\n",
              "      <td>1508.0</td>\n",
              "      <td>128000</td>\n",
              "      <td>360</td>\n",
              "      <td>30</td>\n",
              "      <td>1.0</td>\n",
              "      <td>NaN</td>\n",
              "      <td>studio</td>\n",
              "      <td>REJECT</td>\n",
              "    </tr>\n",
              "    <tr>\n",
              "      <th>2</th>\n",
              "      <td>LP001005</td>\n",
              "      <td>1991-03-28</td>\n",
              "      <td>6.281192e+11</td>\n",
              "      <td>Male</td>\n",
              "      <td>Yes</td>\n",
              "      <td>0</td>\n",
              "      <td>Graduate</td>\n",
              "      <td>Yes</td>\n",
              "      <td>3000.0</td>\n",
              "      <td>0.0</td>\n",
              "      <td>66000</td>\n",
              "      <td>360</td>\n",
              "      <td>30</td>\n",
              "      <td>1.0</td>\n",
              "      <td>NaN</td>\n",
              "      <td>house</td>\n",
              "      <td>APPROVE</td>\n",
              "    </tr>\n",
              "    <tr>\n",
              "      <th>3</th>\n",
              "      <td>LP001006</td>\n",
              "      <td>1980-06-02</td>\n",
              "      <td>6.285634e+10</td>\n",
              "      <td>Male</td>\n",
              "      <td>Yes</td>\n",
              "      <td>0</td>\n",
              "      <td>Not Graduate</td>\n",
              "      <td>No</td>\n",
              "      <td>2583.0</td>\n",
              "      <td>2358.0</td>\n",
              "      <td>120000</td>\n",
              "      <td>360</td>\n",
              "      <td>30</td>\n",
              "      <td>1.0</td>\n",
              "      <td>NaN</td>\n",
              "      <td>house</td>\n",
              "      <td>APPROVE</td>\n",
              "    </tr>\n",
              "    <tr>\n",
              "      <th>4</th>\n",
              "      <td>LP001008</td>\n",
              "      <td>1989-05-19</td>\n",
              "      <td>6.281130e+11</td>\n",
              "      <td>Male</td>\n",
              "      <td>No</td>\n",
              "      <td>0</td>\n",
              "      <td>Graduate</td>\n",
              "      <td>No</td>\n",
              "      <td>6000.0</td>\n",
              "      <td>0.0</td>\n",
              "      <td>141000</td>\n",
              "      <td>360</td>\n",
              "      <td>30</td>\n",
              "      <td>1.0</td>\n",
              "      <td>NaN</td>\n",
              "      <td>house</td>\n",
              "      <td>APPROVE</td>\n",
              "    </tr>\n",
              "  </tbody>\n",
              "</table>\n",
              "</div>\n",
              "      <button class=\"colab-df-convert\" onclick=\"convertToInteractive('df-b3992af6-83af-4c23-9f08-ad7266ed8332')\"\n",
              "              title=\"Convert this dataframe to an interactive table.\"\n",
              "              style=\"display:none;\">\n",
              "        \n",
              "  <svg xmlns=\"http://www.w3.org/2000/svg\" height=\"24px\"viewBox=\"0 0 24 24\"\n",
              "       width=\"24px\">\n",
              "    <path d=\"M0 0h24v24H0V0z\" fill=\"none\"/>\n",
              "    <path d=\"M18.56 5.44l.94 2.06.94-2.06 2.06-.94-2.06-.94-.94-2.06-.94 2.06-2.06.94zm-11 1L8.5 8.5l.94-2.06 2.06-.94-2.06-.94L8.5 2.5l-.94 2.06-2.06.94zm10 10l.94 2.06.94-2.06 2.06-.94-2.06-.94-.94-2.06-.94 2.06-2.06.94z\"/><path d=\"M17.41 7.96l-1.37-1.37c-.4-.4-.92-.59-1.43-.59-.52 0-1.04.2-1.43.59L10.3 9.45l-7.72 7.72c-.78.78-.78 2.05 0 2.83L4 21.41c.39.39.9.59 1.41.59.51 0 1.02-.2 1.41-.59l7.78-7.78 2.81-2.81c.8-.78.8-2.07 0-2.86zM5.41 20L4 18.59l7.72-7.72 1.47 1.35L5.41 20z\"/>\n",
              "  </svg>\n",
              "      </button>\n",
              "      \n",
              "  <style>\n",
              "    .colab-df-container {\n",
              "      display:flex;\n",
              "      flex-wrap:wrap;\n",
              "      gap: 12px;\n",
              "    }\n",
              "\n",
              "    .colab-df-convert {\n",
              "      background-color: #E8F0FE;\n",
              "      border: none;\n",
              "      border-radius: 50%;\n",
              "      cursor: pointer;\n",
              "      display: none;\n",
              "      fill: #1967D2;\n",
              "      height: 32px;\n",
              "      padding: 0 0 0 0;\n",
              "      width: 32px;\n",
              "    }\n",
              "\n",
              "    .colab-df-convert:hover {\n",
              "      background-color: #E2EBFA;\n",
              "      box-shadow: 0px 1px 2px rgba(60, 64, 67, 0.3), 0px 1px 3px 1px rgba(60, 64, 67, 0.15);\n",
              "      fill: #174EA6;\n",
              "    }\n",
              "\n",
              "    [theme=dark] .colab-df-convert {\n",
              "      background-color: #3B4455;\n",
              "      fill: #D2E3FC;\n",
              "    }\n",
              "\n",
              "    [theme=dark] .colab-df-convert:hover {\n",
              "      background-color: #434B5C;\n",
              "      box-shadow: 0px 1px 3px 1px rgba(0, 0, 0, 0.15);\n",
              "      filter: drop-shadow(0px 1px 2px rgba(0, 0, 0, 0.3));\n",
              "      fill: #FFFFFF;\n",
              "    }\n",
              "  </style>\n",
              "\n",
              "      <script>\n",
              "        const buttonEl =\n",
              "          document.querySelector('#df-b3992af6-83af-4c23-9f08-ad7266ed8332 button.colab-df-convert');\n",
              "        buttonEl.style.display =\n",
              "          google.colab.kernel.accessAllowed ? 'block' : 'none';\n",
              "\n",
              "        async function convertToInteractive(key) {\n",
              "          const element = document.querySelector('#df-b3992af6-83af-4c23-9f08-ad7266ed8332');\n",
              "          const dataTable =\n",
              "            await google.colab.kernel.invokeFunction('convertToInteractive',\n",
              "                                                     [key], {});\n",
              "          if (!dataTable) return;\n",
              "\n",
              "          const docLinkHtml = 'Like what you see? Visit the ' +\n",
              "            '<a target=\"_blank\" href=https://colab.research.google.com/notebooks/data_table.ipynb>data table notebook</a>'\n",
              "            + ' to learn more about interactive tables.';\n",
              "          element.innerHTML = '';\n",
              "          dataTable['output_type'] = 'display_data';\n",
              "          await google.colab.output.renderOutput(dataTable, element);\n",
              "          const docLink = document.createElement('div');\n",
              "          docLink.innerHTML = docLinkHtml;\n",
              "          element.appendChild(docLink);\n",
              "        }\n",
              "      </script>\n",
              "    </div>\n",
              "  </div>\n",
              "  "
            ]
          },
          "metadata": {},
          "execution_count": 22
        }
      ]
    },
    {
      "cell_type": "code",
      "source": [
        "df.info()"
      ],
      "metadata": {
        "colab": {
          "base_uri": "https://localhost:8080/"
        },
        "id": "mx2Ua8ZL220X",
        "outputId": "80e6bfb7-61b9-4f4e-c3cf-3ea84f55f9dc"
      },
      "id": "mx2Ua8ZL220X",
      "execution_count": 23,
      "outputs": [
        {
          "output_type": "stream",
          "name": "stdout",
          "text": [
            "<class 'pandas.core.frame.DataFrame'>\n",
            "RangeIndex: 621 entries, 0 to 620\n",
            "Data columns (total 17 columns):\n",
            " #   Column              Non-Null Count  Dtype  \n",
            "---  ------              --------------  -----  \n",
            " 0   loan_id             621 non-null    object \n",
            " 1   birth_date          572 non-null    object \n",
            " 2   phone_number        569 non-null    float64\n",
            " 3   gender              608 non-null    object \n",
            " 4   married             618 non-null    object \n",
            " 5   dependents          605 non-null    object \n",
            " 6   education           620 non-null    object \n",
            " 7   self_employed       588 non-null    object \n",
            " 8   applicant_income    612 non-null    float64\n",
            " 9   coapplicant_income  621 non-null    float64\n",
            " 10  loan_amount         621 non-null    int64  \n",
            " 11  loan_term_month     621 non-null    int64  \n",
            " 12  loan_term_year      621 non-null    int64  \n",
            " 13  credit_history      570 non-null    float64\n",
            " 14  has_credit_card     88 non-null     object \n",
            " 15  property_type       620 non-null    object \n",
            " 16  loan_status         621 non-null    object \n",
            "dtypes: float64(4), int64(3), object(10)\n",
            "memory usage: 82.6+ KB\n"
          ]
        }
      ]
    },
    {
      "cell_type": "markdown",
      "source": [
        "Observation:\n",
        "\n",
        "- The data consists of 621 rows\n",
        "- It seems that some columns still have null/missing values ​​(Non-Null Count < number of rows)\n",
        "- The column type birth_date has the wrong type, while the other columns don't seem to have any significant issues with the data type (already correct)"
      ],
      "metadata": {
        "id": "WjOPo0LM2_ms"
      },
      "id": "WjOPo0LM2_ms"
    },
    {
      "cell_type": "markdown",
      "id": "7c0e3893",
      "metadata": {
        "id": "7c0e3893"
      },
      "source": [
        "# Data Cleansing"
      ]
    },
    {
      "cell_type": "markdown",
      "id": "dc4032a4",
      "metadata": {
        "id": "dc4032a4"
      },
      "source": [
        "## Handling missing values"
      ]
    },
    {
      "cell_type": "code",
      "source": [
        "df.isna().sum()"
      ],
      "metadata": {
        "colab": {
          "base_uri": "https://localhost:8080/"
        },
        "id": "2XjC_R_r6Qgh",
        "outputId": "0542ec82-a7b6-4653-d9e8-0231300c9c6d"
      },
      "id": "2XjC_R_r6Qgh",
      "execution_count": 24,
      "outputs": [
        {
          "output_type": "execute_result",
          "data": {
            "text/plain": [
              "loan_id                 0\n",
              "birth_date             49\n",
              "phone_number           52\n",
              "gender                 13\n",
              "married                 3\n",
              "dependents             16\n",
              "education               1\n",
              "self_employed          33\n",
              "applicant_income        9\n",
              "coapplicant_income      0\n",
              "loan_amount             0\n",
              "loan_term_month         0\n",
              "loan_term_year          0\n",
              "credit_history         51\n",
              "has_credit_card       533\n",
              "property_type           1\n",
              "loan_status             0\n",
              "dtype: int64"
            ]
          },
          "metadata": {},
          "execution_count": 24
        }
      ]
    },
    {
      "cell_type": "code",
      "source": [
        "df['birth_date']= pd.to_datetime(df['birth_date'])"
      ],
      "metadata": {
        "id": "508IJuDb3eXw"
      },
      "id": "508IJuDb3eXw",
      "execution_count": 25,
      "outputs": []
    },
    {
      "cell_type": "code",
      "source": [
        "df.info()"
      ],
      "metadata": {
        "colab": {
          "base_uri": "https://localhost:8080/"
        },
        "id": "ILBTeoSq3obR",
        "outputId": "62e92de9-38c7-45b9-a7ae-767b2954ea05"
      },
      "id": "ILBTeoSq3obR",
      "execution_count": 26,
      "outputs": [
        {
          "output_type": "stream",
          "name": "stdout",
          "text": [
            "<class 'pandas.core.frame.DataFrame'>\n",
            "RangeIndex: 621 entries, 0 to 620\n",
            "Data columns (total 17 columns):\n",
            " #   Column              Non-Null Count  Dtype         \n",
            "---  ------              --------------  -----         \n",
            " 0   loan_id             621 non-null    object        \n",
            " 1   birth_date          572 non-null    datetime64[ns]\n",
            " 2   phone_number        569 non-null    float64       \n",
            " 3   gender              608 non-null    object        \n",
            " 4   married             618 non-null    object        \n",
            " 5   dependents          605 non-null    object        \n",
            " 6   education           620 non-null    object        \n",
            " 7   self_employed       588 non-null    object        \n",
            " 8   applicant_income    612 non-null    float64       \n",
            " 9   coapplicant_income  621 non-null    float64       \n",
            " 10  loan_amount         621 non-null    int64         \n",
            " 11  loan_term_month     621 non-null    int64         \n",
            " 12  loan_term_year      621 non-null    int64         \n",
            " 13  credit_history      570 non-null    float64       \n",
            " 14  has_credit_card     88 non-null     object        \n",
            " 15  property_type       620 non-null    object        \n",
            " 16  loan_status         621 non-null    object        \n",
            "dtypes: datetime64[ns](1), float64(4), int64(3), object(9)\n",
            "memory usage: 82.6+ KB\n"
          ]
        }
      ]
    },
    {
      "cell_type": "markdown",
      "source": [
        "Delete columns that have a lot of empty data"
      ],
      "metadata": {
        "id": "KJAIKwNf4JDL"
      },
      "id": "KJAIKwNf4JDL"
    },
    {
      "cell_type": "code",
      "source": [
        "df.drop('has_credit_card', axis=1, inplace=True)"
      ],
      "metadata": {
        "id": "fbAwBoTJ4LJB"
      },
      "id": "fbAwBoTJ4LJB",
      "execution_count": 27,
      "outputs": []
    },
    {
      "cell_type": "code",
      "execution_count": 28,
      "id": "b2b5755e",
      "metadata": {
        "id": "b2b5755e"
      },
      "outputs": [],
      "source": [
        "df = df.dropna()"
      ]
    },
    {
      "cell_type": "code",
      "source": [
        "df.isna().sum()"
      ],
      "metadata": {
        "colab": {
          "base_uri": "https://localhost:8080/"
        },
        "id": "rbc9Qc2i6TG1",
        "outputId": "e52e1349-0217-4eca-af04-cc8f09e6a4f0"
      },
      "id": "rbc9Qc2i6TG1",
      "execution_count": 29,
      "outputs": [
        {
          "output_type": "execute_result",
          "data": {
            "text/plain": [
              "loan_id               0\n",
              "birth_date            0\n",
              "phone_number          0\n",
              "gender                0\n",
              "married               0\n",
              "dependents            0\n",
              "education             0\n",
              "self_employed         0\n",
              "applicant_income      0\n",
              "coapplicant_income    0\n",
              "loan_amount           0\n",
              "loan_term_month       0\n",
              "loan_term_year        0\n",
              "credit_history        0\n",
              "property_type         0\n",
              "loan_status           0\n",
              "dtype: int64"
            ]
          },
          "metadata": {},
          "execution_count": 29
        }
      ]
    },
    {
      "cell_type": "markdown",
      "id": "d75d760e",
      "metadata": {
        "id": "d75d760e"
      },
      "source": [
        "## Handling duplicated data"
      ]
    },
    {
      "cell_type": "code",
      "source": [
        "print('Number of duplicate data : ')\n",
        "print(df.duplicated().sum())\n",
        "print('Number after deleting duplicate data :')\n",
        "df.drop_duplicates(inplace=True)\n",
        "print(df.duplicated().sum())"
      ],
      "metadata": {
        "colab": {
          "base_uri": "https://localhost:8080/"
        },
        "id": "ZTyANccr_VyF",
        "outputId": "76e3e40d-92f6-4a9a-9836-e2cf752e6abf"
      },
      "id": "ZTyANccr_VyF",
      "execution_count": 30,
      "outputs": [
        {
          "output_type": "stream",
          "name": "stdout",
          "text": [
            "Number of duplicate data : \n",
            "5\n",
            "Number after deleting duplicate data :\n",
            "0\n"
          ]
        }
      ]
    },
    {
      "cell_type": "markdown",
      "id": "a73632f3",
      "metadata": {
        "id": "a73632f3"
      },
      "source": [
        "## Handling Outlier"
      ]
    },
    {
      "cell_type": "code",
      "source": [
        "sns.boxplot(x='applicant_income', data=df)"
      ],
      "metadata": {
        "colab": {
          "base_uri": "https://localhost:8080/",
          "height": 297
        },
        "id": "m8WEc6eZ-wof",
        "outputId": "11e1930a-5689-4163-f9c7-a1f0b1c414da"
      },
      "id": "m8WEc6eZ-wof",
      "execution_count": 31,
      "outputs": [
        {
          "output_type": "execute_result",
          "data": {
            "text/plain": [
              "<matplotlib.axes._subplots.AxesSubplot at 0x7ffb0485a160>"
            ]
          },
          "metadata": {},
          "execution_count": 31
        },
        {
          "output_type": "display_data",
          "data": {
            "text/plain": [
              "<Figure size 432x288 with 1 Axes>"
            ],
            "image/png": "[encoded data removed]"
          },
          "metadata": {
            "needs_background": "light"
          }
        }
      ]
    },
    {
      "cell_type": "code",
      "source": [
        "sns.boxplot(x='coapplicant_income', data=df)"
      ],
      "metadata": {
        "colab": {
          "base_uri": "https://localhost:8080/",
          "height": 297
        },
        "id": "UgivzyGD-zpT",
        "outputId": "327bdd9d-236f-4166-c914-8b76a61e1b8f"
      },
      "id": "UgivzyGD-zpT",
      "execution_count": 32,
      "outputs": [
        {
          "output_type": "execute_result",
          "data": {
            "text/plain": [
              "<matplotlib.axes._subplots.AxesSubplot at 0x7ffb0483e190>"
            ]
          },
          "metadata": {},
          "execution_count": 32
        },
        {
          "output_type": "display_data",
          "data": {
            "text/plain": [
              "<Figure size 432x288 with 1 Axes>"
            ],
            "image/png": "[encoded data removed]"
          },
          "metadata": {
            "needs_background": "light"
          }
        }
      ]
    },
    {
      "cell_type": "code",
      "source": [
        "sns.boxplot(x='loan_amount', data=df)"
      ],
      "metadata": {
        "colab": {
          "base_uri": "https://localhost:8080/",
          "height": 297
        },
        "id": "-mmJwAvk-6yS",
        "outputId": "beb1b1cf-5cf2-472a-a2c8-13678516599d"
      },
      "id": "-mmJwAvk-6yS",
      "execution_count": 33,
      "outputs": [
        {
          "output_type": "execute_result",
          "data": {
            "text/plain": [
              "<matplotlib.axes._subplots.AxesSubplot at 0x7ffb04d95cd0>"
            ]
          },
          "metadata": {},
          "execution_count": 33
        },
        {
          "output_type": "display_data",
          "data": {
            "text/plain": [
              "<Figure size 432x288 with 1 Axes>"
            ],
            "image/png": "[encoded data removed]"
          },
          "metadata": {
            "needs_background": "light"
          }
        }
      ]
    },
    {
      "cell_type": "markdown",
      "source": [
        "The data looks abnormal due to outliers"
      ],
      "metadata": {
        "id": "4o6uvy3ZAE9y"
      },
      "id": "4o6uvy3ZAE9y"
    },
    {
      "cell_type": "code",
      "execution_count": 34,
      "id": "dfbec136",
      "metadata": {
        "colab": {
          "base_uri": "https://localhost:8080/"
        },
        "id": "dfbec136",
        "outputId": "e2cf323d-e556-4f87-d08f-57c80523f6a7"
      },
      "outputs": [
        {
          "output_type": "stream",
          "name": "stdout",
          "text": [
            "Number of rows before filtering outliers: 429\n",
            "Number of rows after filtering outliers: 366\n"
          ]
        }
      ],
      "source": [
        "print(f'Number of rows before filtering outliers: {len(df)}')\n",
        "\n",
        "for col in ['applicant_income','coapplicant_income','loan_amount']:\n",
        "  Q1 = df[col].quantile(0.25)\n",
        "  Q3 = df[col].quantile(0.75)\n",
        "  IQR = Q3-Q1\n",
        "  low_limit = Q1 - 1.5*IQR\n",
        "  high_limit = Q3 + 1.5*IQR\n",
        "  df = df[(df[col] >= low_limit) & (df[col] <= high_limit)]\n",
        "\n",
        "print(f'Number of rows after filtering outliers: {len(df)}')"
      ]
    },
    {
      "cell_type": "code",
      "source": [
        "sns.boxplot(x='applicant_income', data=df)"
      ],
      "metadata": {
        "colab": {
          "base_uri": "https://localhost:8080/",
          "height": 297
        },
        "id": "rCZQ2Y-K6mJ4",
        "outputId": "6c215a43-31f1-45dd-d3a1-45fb26a0ce06"
      },
      "id": "rCZQ2Y-K6mJ4",
      "execution_count": 35,
      "outputs": [
        {
          "output_type": "execute_result",
          "data": {
            "text/plain": [
              "<matplotlib.axes._subplots.AxesSubplot at 0x7ffb04939a00>"
            ]
          },
          "metadata": {},
          "execution_count": 35
        },
        {
          "output_type": "display_data",
          "data": {
            "text/plain": [
              "<Figure size 432x288 with 1 Axes>"
            ],
            "image/png": "[encoded data removed]"
          },
          "metadata": {
            "needs_background": "light"
          }
        }
      ]
    },
    {
      "cell_type": "code",
      "source": [
        "sns.boxplot(x='coapplicant_income', data=df)"
      ],
      "metadata": {
        "id": "heDk2knC8nHA",
        "colab": {
          "base_uri": "https://localhost:8080/",
          "height": 297
        },
        "outputId": "83d849f2-e0c4-4688-b9ea-7cf2025f0e2b"
      },
      "id": "heDk2knC8nHA",
      "execution_count": 36,
      "outputs": [
        {
          "output_type": "execute_result",
          "data": {
            "text/plain": [
              "<matplotlib.axes._subplots.AxesSubplot at 0x7ffb04740490>"
            ]
          },
          "metadata": {},
          "execution_count": 36
        },
        {
          "output_type": "display_data",
          "data": {
            "text/plain": [
              "<Figure size 432x288 with 1 Axes>"
            ],
            "image/png": "[encoded data removed]"
          },
          "metadata": {
            "needs_background": "light"
          }
        }
      ]
    },
    {
      "cell_type": "code",
      "source": [
        "sns.boxplot(x='loan_amount', data=df)"
      ],
      "metadata": {
        "colab": {
          "base_uri": "https://localhost:8080/",
          "height": 297
        },
        "id": "_xnfjvFF69ks",
        "outputId": "5b011191-f00b-44d7-9b73-12b78758a018"
      },
      "id": "_xnfjvFF69ks",
      "execution_count": 37,
      "outputs": [
        {
          "output_type": "execute_result",
          "data": {
            "text/plain": [
              "<matplotlib.axes._subplots.AxesSubplot at 0x7ffb046937c0>"
            ]
          },
          "metadata": {},
          "execution_count": 37
        },
        {
          "output_type": "display_data",
          "data": {
            "text/plain": [
              "<Figure size 432x288 with 1 Axes>"
            ],
            "image/png": "[encoded data removed]"
          },
          "metadata": {
            "needs_background": "light"
          }
        }
      ]
    },
    {
      "cell_type": "markdown",
      "source": [
        "After the data is filtered from the outliers, the distribution of the data becomes more even"
      ],
      "metadata": {
        "id": "re_8ZO6rAd4m"
      },
      "id": "re_8ZO6rAd4m"
    },
    {
      "cell_type": "markdown",
      "id": "659efbd3",
      "metadata": {
        "id": "659efbd3"
      },
      "source": [
        "## Feature Encoding"
      ]
    },
    {
      "cell_type": "code",
      "execution_count": 38,
      "id": "20e217a2",
      "metadata": {
        "colab": {
          "base_uri": "https://localhost:8080/"
        },
        "id": "20e217a2",
        "outputId": "36cef251-6b9f-4498-9127-b844aa418331"
      },
      "outputs": [
        {
          "output_type": "stream",
          "name": "stdout",
          "text": [
            "value counts of column loan_id\n",
            "LP001002    1\n",
            "LP002337    1\n",
            "LP002332    1\n",
            "LP002328    1\n",
            "LP002318    1\n",
            "           ..\n",
            "LP001693    1\n",
            "LP001692    1\n",
            "LP001691    1\n",
            "LP001682    1\n",
            "LP002984    1\n",
            "Name: loan_id, Length: 366, dtype: int64\n",
            "------------------------------ \n",
            "\n",
            "value counts of column birth_date\n",
            "1990-03-25    2\n",
            "1982-09-18    2\n",
            "1986-05-24    2\n",
            "1991-08-21    2\n",
            "1984-09-29    2\n",
            "             ..\n",
            "1991-02-21    1\n",
            "1988-11-27    1\n",
            "1979-11-07    1\n",
            "1985-12-30    1\n",
            "1986-12-05    1\n",
            "Name: birth_date, Length: 354, dtype: int64\n",
            "------------------------------ \n",
            "\n",
            "value counts of column phone_number\n",
            "6.281142e+11    1\n",
            "6.281136e+11    1\n",
            "6.287767e+11    1\n",
            "6.287765e+11    1\n",
            "6.281383e+11    1\n",
            "               ..\n",
            "6.281123e+10    1\n",
            "6.285272e+11    1\n",
            "6.285615e+11    1\n",
            "6.287715e+10    1\n",
            "6.281196e+11    1\n",
            "Name: phone_number, Length: 366, dtype: int64\n",
            "------------------------------ \n",
            "\n",
            "value counts of column gender\n",
            "Male      299\n",
            "Female     67\n",
            "Name: gender, dtype: int64\n",
            "------------------------------ \n",
            "\n",
            "value counts of column married\n",
            "Yes    230\n",
            "No     136\n",
            "Name: married, dtype: int64\n",
            "------------------------------ \n",
            "\n",
            "value counts of column dependents\n",
            "0     219\n",
            "2      61\n",
            "1      60\n",
            "3+     26\n",
            "Name: dependents, dtype: int64\n",
            "------------------------------ \n",
            "\n",
            "value counts of column education\n",
            "Graduate        273\n",
            "Not Graduate     93\n",
            "Name: education, dtype: int64\n",
            "------------------------------ \n",
            "\n",
            "value counts of column self_employed\n",
            "No     327\n",
            "Yes     39\n",
            "Name: self_employed, dtype: int64\n",
            "------------------------------ \n",
            "\n",
            "value counts of column applicant_income\n",
            "2600.0    5\n",
            "5000.0    4\n",
            "6250.0    4\n",
            "6000.0    4\n",
            "2500.0    4\n",
            "         ..\n",
            "3850.0    1\n",
            "5703.0    1\n",
            "7787.0    1\n",
            "3430.0    1\n",
            "7583.0    1\n",
            "Name: applicant_income, Length: 317, dtype: int64\n",
            "------------------------------ \n",
            "\n",
            "value counts of column coapplicant_income\n",
            "0.0       160\n",
            "1666.0      4\n",
            "2531.0      2\n",
            "2054.0      2\n",
            "1717.0      2\n",
            "         ... \n",
            "983.0       1\n",
            "1775.0      1\n",
            "2791.0      1\n",
            "1010.0      1\n",
            "1411.0      1\n",
            "Name: coapplicant_income, Length: 187, dtype: int64\n",
            "------------------------------ \n",
            "\n",
            "value counts of column loan_amount\n",
            "110000    18\n",
            "100000    14\n",
            "120000    13\n",
            "113000     8\n",
            "187000     8\n",
            "          ..\n",
            "184000     1\n",
            "67000      1\n",
            "117000     1\n",
            "46000      1\n",
            "40000      1\n",
            "Name: loan_amount, Length: 136, dtype: int64\n",
            "------------------------------ \n",
            "\n",
            "value counts of column loan_term_month\n",
            "360    310\n",
            "180     26\n",
            "480     11\n",
            "300      8\n",
            "84       3\n",
            "120      2\n",
            "60       2\n",
            "240      2\n",
            "36       2\n",
            "Name: loan_term_month, dtype: int64\n",
            "------------------------------ \n",
            "\n",
            "value counts of column loan_term_year\n",
            "30    310\n",
            "15     26\n",
            "40     11\n",
            "25      8\n",
            "7       3\n",
            "10      2\n",
            "5       2\n",
            "20      2\n",
            "3       2\n",
            "Name: loan_term_year, dtype: int64\n",
            "------------------------------ \n",
            "\n",
            "value counts of column credit_history\n",
            "1.0    309\n",
            "0.0     57\n",
            "Name: credit_history, dtype: int64\n",
            "------------------------------ \n",
            "\n",
            "value counts of column property_type\n",
            "apartment    148\n",
            "house        114\n",
            "studio       104\n",
            "Name: property_type, dtype: int64\n",
            "------------------------------ \n",
            "\n",
            "value counts of column loan_status\n",
            "APPROVE    255\n",
            "REJECT     111\n",
            "Name: loan_status, dtype: int64\n",
            "------------------------------ \n",
            "\n"
          ]
        }
      ],
      "source": [
        "for col in df:\n",
        "  print(f'value counts of column {col}')\n",
        "  print(df[col].value_counts())\n",
        "  print('---'*10, '\\n')"
      ]
    },
    {
      "cell_type": "code",
      "source": [
        "df1 = df.copy()\n",
        "\n",
        "cats = ['gender', 'married', 'dependents', 'education', 'self_employed', 'property_type']\n",
        "\n",
        "for i in cats:\n",
        "    print(i, 'column', df1[i].unique())"
      ],
      "metadata": {
        "colab": {
          "base_uri": "https://localhost:8080/"
        },
        "id": "UQBJ4tOyA2oq",
        "outputId": "aa6c2403-4f69-4d00-d27e-3042a2ee7a7d"
      },
      "id": "UQBJ4tOyA2oq",
      "execution_count": 40,
      "outputs": [
        {
          "output_type": "stream",
          "name": "stdout",
          "text": [
            "gender column ['Male' 'Female']\n",
            "married column ['No' 'Yes']\n",
            "dependents column ['0' '1' '3+' '2']\n",
            "education column ['Graduate' 'Not Graduate']\n",
            "self_employed column ['No' 'Yes']\n",
            "property_type column ['house' 'studio' 'apartment']\n"
          ]
        }
      ]
    },
    {
      "cell_type": "markdown",
      "source": [
        "Create label encoding for each category"
      ],
      "metadata": {
        "id": "yoMstg_Q7r8k"
      },
      "id": "yoMstg_Q7r8k"
    },
    {
      "cell_type": "code",
      "source": [
        "mapping_gender = {\n",
        "    'Male' : 0,\n",
        "    'Female' : 1\n",
        "}\n",
        "\n",
        "mapping_married = {\n",
        "    'No' : 0,\n",
        "    'Yes' : 1\n",
        "}\n",
        "\n",
        "mapping_self_employed = {\n",
        "    'Yes' : 1,\n",
        "    'No' : 0\n",
        "}\n",
        "\n",
        "mapping_education = {\n",
        "    'Graduate' : 1,\n",
        "    'Not Graduate' : 0\n",
        "}\n",
        "\n",
        "mapping_dependents = {\n",
        "    '0' : 0,\n",
        "    '1' : 1,\n",
        "    '2' : 2,\n",
        "    '3+' : 3\n",
        "}\n",
        "\n",
        "mapping_property_type = {\n",
        "    'house' : 0,\n",
        "    'studio' : 1, \n",
        "    'apartment' : 2\n",
        "}\n",
        "\n",
        "df['gender'] = df['gender'].map(mapping_gender)\n",
        "df1['married'] = df1['married'].map(mapping_married)\n",
        "df['education'] = df['education'].map(mapping_education)\n",
        "df['dependents'] = df['dependents'].map(mapping_dependents)\n",
        "df['self_employed'] = df['self_employed'].map(mapping_self_employed)\n",
        "df1['property_type'] = df1['property_type'].map(mapping_property_type)"
      ],
      "metadata": {
        "id": "H9tMrHns61KX"
      },
      "id": "H9tMrHns61KX",
      "execution_count": 41,
      "outputs": []
    },
    {
      "cell_type": "code",
      "source": [
        "df.head()"
      ],
      "metadata": {
        "colab": {
          "base_uri": "https://localhost:8080/",
          "height": 270
        },
        "id": "5SSXri-tBqB0",
        "outputId": "a7fcc91a-0fd6-4c5d-9604-da37e9aa2479"
      },
      "id": "5SSXri-tBqB0",
      "execution_count": 42,
      "outputs": [
        {
          "output_type": "execute_result",
          "data": {
            "text/plain": [
              "    loan_id birth_date  phone_number  gender married  dependents  education  \\\n",
              "0  LP001002 1977-05-15  6.281142e+11       0      No           0          1   \n",
              "1  LP001003 1979-08-24  6.287764e+11       0     Yes           1          1   \n",
              "2  LP001005 1991-03-28  6.281192e+11       0     Yes           0          1   \n",
              "3  LP001006 1980-06-02  6.285634e+10       0     Yes           0          0   \n",
              "4  LP001008 1989-05-19  6.281130e+11       0      No           0          1   \n",
              "\n",
              "   self_employed  applicant_income  coapplicant_income  loan_amount  \\\n",
              "0              0            5849.0                 0.0       100000   \n",
              "1              0            4583.0              1508.0       128000   \n",
              "2              1            3000.0                 0.0        66000   \n",
              "3              0            2583.0              2358.0       120000   \n",
              "4              0            6000.0                 0.0       141000   \n",
              "\n",
              "   loan_term_month  loan_term_year  credit_history property_type loan_status  \n",
              "0              360              30             1.0         house     APPROVE  \n",
              "1              360              30             1.0        studio      REJECT  \n",
              "2              360              30             1.0         house     APPROVE  \n",
              "3              360              30             1.0         house     APPROVE  \n",
              "4              360              30             1.0         house     APPROVE  "
            ],
            "text/html": [
              "\n",
              "  <div id=\"df-78cc6781-0118-4a7b-8a70-7f20f49a11d7\">\n",
              "    <div class=\"colab-df-container\">\n",
              "      <div>\n",
              "<style scoped>\n",
              "    .dataframe tbody tr th:only-of-type {\n",
              "        vertical-align: middle;\n",
              "    }\n",
              "\n",
              "    .dataframe tbody tr th {\n",
              "        vertical-align: top;\n",
              "    }\n",
              "\n",
              "    .dataframe thead th {\n",
              "        text-align: right;\n",
              "    }\n",
              "</style>\n",
              "<table border=\"1\" class=\"dataframe\">\n",
              "  <thead>\n",
              "    <tr style=\"text-align: right;\">\n",
              "      <th></th>\n",
              "      <th>loan_id</th>\n",
              "      <th>birth_date</th>\n",
              "      <th>phone_number</th>\n",
              "      <th>gender</th>\n",
              "      <th>married</th>\n",
              "      <th>dependents</th>\n",
              "      <th>education</th>\n",
              "      <th>self_employed</th>\n",
              "      <th>applicant_income</th>\n",
              "      <th>coapplicant_income</th>\n",
              "      <th>loan_amount</th>\n",
              "      <th>loan_term_month</th>\n",
              "      <th>loan_term_year</th>\n",
              "      <th>credit_history</th>\n",
              "      <th>property_type</th>\n",
              "      <th>loan_status</th>\n",
              "    </tr>\n",
              "  </thead>\n",
              "  <tbody>\n",
              "    <tr>\n",
              "      <th>0</th>\n",
              "      <td>LP001002</td>\n",
              "      <td>1977-05-15</td>\n",
              "      <td>6.281142e+11</td>\n",
              "      <td>0</td>\n",
              "      <td>No</td>\n",
              "      <td>0</td>\n",
              "      <td>1</td>\n",
              "      <td>0</td>\n",
              "      <td>5849.0</td>\n",
              "      <td>0.0</td>\n",
              "      <td>100000</td>\n",
              "      <td>360</td>\n",
              "      <td>30</td>\n",
              "      <td>1.0</td>\n",
              "      <td>house</td>\n",
              "      <td>APPROVE</td>\n",
              "    </tr>\n",
              "    <tr>\n",
              "      <th>1</th>\n",
              "      <td>LP001003</td>\n",
              "      <td>1979-08-24</td>\n",
              "      <td>6.287764e+11</td>\n",
              "      <td>0</td>\n",
              "      <td>Yes</td>\n",
              "      <td>1</td>\n",
              "      <td>1</td>\n",
              "      <td>0</td>\n",
              "      <td>4583.0</td>\n",
              "      <td>1508.0</td>\n",
              "      <td>128000</td>\n",
              "      <td>360</td>\n",
              "      <td>30</td>\n",
              "      <td>1.0</td>\n",
              "      <td>studio</td>\n",
              "      <td>REJECT</td>\n",
              "    </tr>\n",
              "    <tr>\n",
              "      <th>2</th>\n",
              "      <td>LP001005</td>\n",
              "      <td>1991-03-28</td>\n",
              "      <td>6.281192e+11</td>\n",
              "      <td>0</td>\n",
              "      <td>Yes</td>\n",
              "      <td>0</td>\n",
              "      <td>1</td>\n",
              "      <td>1</td>\n",
              "      <td>3000.0</td>\n",
              "      <td>0.0</td>\n",
              "      <td>66000</td>\n",
              "      <td>360</td>\n",
              "      <td>30</td>\n",
              "      <td>1.0</td>\n",
              "      <td>house</td>\n",
              "      <td>APPROVE</td>\n",
              "    </tr>\n",
              "    <tr>\n",
              "      <th>3</th>\n",
              "      <td>LP001006</td>\n",
              "      <td>1980-06-02</td>\n",
              "      <td>6.285634e+10</td>\n",
              "      <td>0</td>\n",
              "      <td>Yes</td>\n",
              "      <td>0</td>\n",
              "      <td>0</td>\n",
              "      <td>0</td>\n",
              "      <td>2583.0</td>\n",
              "      <td>2358.0</td>\n",
              "      <td>120000</td>\n",
              "      <td>360</td>\n",
              "      <td>30</td>\n",
              "      <td>1.0</td>\n",
              "      <td>house</td>\n",
              "      <td>APPROVE</td>\n",
              "    </tr>\n",
              "    <tr>\n",
              "      <th>4</th>\n",
              "      <td>LP001008</td>\n",
              "      <td>1989-05-19</td>\n",
              "      <td>6.281130e+11</td>\n",
              "      <td>0</td>\n",
              "      <td>No</td>\n",
              "      <td>0</td>\n",
              "      <td>1</td>\n",
              "      <td>0</td>\n",
              "      <td>6000.0</td>\n",
              "      <td>0.0</td>\n",
              "      <td>141000</td>\n",
              "      <td>360</td>\n",
              "      <td>30</td>\n",
              "      <td>1.0</td>\n",
              "      <td>house</td>\n",
              "      <td>APPROVE</td>\n",
              "    </tr>\n",
              "  </tbody>\n",
              "</table>\n",
              "</div>\n",
              "      <button class=\"colab-df-convert\" onclick=\"convertToInteractive('df-78cc6781-0118-4a7b-8a70-7f20f49a11d7')\"\n",
              "              title=\"Convert this dataframe to an interactive table.\"\n",
              "              style=\"display:none;\">\n",
              "        \n",
              "  <svg xmlns=\"http://www.w3.org/2000/svg\" height=\"24px\"viewBox=\"0 0 24 24\"\n",
              "       width=\"24px\">\n",
              "    <path d=\"M0 0h24v24H0V0z\" fill=\"none\"/>\n",
              "    <path d=\"M18.56 5.44l.94 2.06.94-2.06 2.06-.94-2.06-.94-.94-2.06-.94 2.06-2.06.94zm-11 1L8.5 8.5l.94-2.06 2.06-.94-2.06-.94L8.5 2.5l-.94 2.06-2.06.94zm10 10l.94 2.06.94-2.06 2.06-.94-2.06-.94-.94-2.06-.94 2.06-2.06.94z\"/><path d=\"M17.41 7.96l-1.37-1.37c-.4-.4-.92-.59-1.43-.59-.52 0-1.04.2-1.43.59L10.3 9.45l-7.72 7.72c-.78.78-.78 2.05 0 2.83L4 21.41c.39.39.9.59 1.41.59.51 0 1.02-.2 1.41-.59l7.78-7.78 2.81-2.81c.8-.78.8-2.07 0-2.86zM5.41 20L4 18.59l7.72-7.72 1.47 1.35L5.41 20z\"/>\n",
              "  </svg>\n",
              "      </button>\n",
              "      \n",
              "  <style>\n",
              "    .colab-df-container {\n",
              "      display:flex;\n",
              "      flex-wrap:wrap;\n",
              "      gap: 12px;\n",
              "    }\n",
              "\n",
              "    .colab-df-convert {\n",
              "      background-color: #E8F0FE;\n",
              "      border: none;\n",
              "      border-radius: 50%;\n",
              "      cursor: pointer;\n",
              "      display: none;\n",
              "      fill: #1967D2;\n",
              "      height: 32px;\n",
              "      padding: 0 0 0 0;\n",
              "      width: 32px;\n",
              "    }\n",
              "\n",
              "    .colab-df-convert:hover {\n",
              "      background-color: #E2EBFA;\n",
              "      box-shadow: 0px 1px 2px rgba(60, 64, 67, 0.3), 0px 1px 3px 1px rgba(60, 64, 67, 0.15);\n",
              "      fill: #174EA6;\n",
              "    }\n",
              "\n",
              "    [theme=dark] .colab-df-convert {\n",
              "      background-color: #3B4455;\n",
              "      fill: #D2E3FC;\n",
              "    }\n",
              "\n",
              "    [theme=dark] .colab-df-convert:hover {\n",
              "      background-color: #434B5C;\n",
              "      box-shadow: 0px 1px 3px 1px rgba(0, 0, 0, 0.15);\n",
              "      filter: drop-shadow(0px 1px 2px rgba(0, 0, 0, 0.3));\n",
              "      fill: #FFFFFF;\n",
              "    }\n",
              "  </style>\n",
              "\n",
              "      <script>\n",
              "        const buttonEl =\n",
              "          document.querySelector('#df-78cc6781-0118-4a7b-8a70-7f20f49a11d7 button.colab-df-convert');\n",
              "        buttonEl.style.display =\n",
              "          google.colab.kernel.accessAllowed ? 'block' : 'none';\n",
              "\n",
              "        async function convertToInteractive(key) {\n",
              "          const element = document.querySelector('#df-78cc6781-0118-4a7b-8a70-7f20f49a11d7');\n",
              "          const dataTable =\n",
              "            await google.colab.kernel.invokeFunction('convertToInteractive',\n",
              "                                                     [key], {});\n",
              "          if (!dataTable) return;\n",
              "\n",
              "          const docLinkHtml = 'Like what you see? Visit the ' +\n",
              "            '<a target=\"_blank\" href=https://colab.research.google.com/notebooks/data_table.ipynb>data table notebook</a>'\n",
              "            + ' to learn more about interactive tables.';\n",
              "          element.innerHTML = '';\n",
              "          dataTable['output_type'] = 'display_data';\n",
              "          await google.colab.output.renderOutput(dataTable, element);\n",
              "          const docLink = document.createElement('div');\n",
              "          docLink.innerHTML = docLinkHtml;\n",
              "          element.appendChild(docLink);\n",
              "        }\n",
              "      </script>\n",
              "    </div>\n",
              "  </div>\n",
              "  "
            ]
          },
          "metadata": {},
          "execution_count": 42
        }
      ]
    },
    {
      "cell_type": "markdown",
      "id": "a7228757",
      "metadata": {
        "id": "a7228757"
      },
      "source": [
        "# Business Insight"
      ]
    },
    {
      "cell_type": "markdown",
      "id": "b890d514",
      "metadata": {
        "id": "b890d514"
      },
      "source": [
        "## Analysis of customer interest based on property type"
      ]
    },
    {
      "cell_type": "code",
      "source": [
        "dfgender = df.groupby(['gender', 'property_type'])['loan_id'].count().reset_index()\n",
        "dfgender.columns = ['gender', 'property_type', 'count']\n",
        "dfgender"
      ],
      "metadata": {
        "colab": {
          "base_uri": "https://localhost:8080/",
          "height": 238
        },
        "id": "g_4rie2yZMg_",
        "outputId": "132dcd23-8e9c-4ada-9821-c5e200d64603"
      },
      "id": "g_4rie2yZMg_",
      "execution_count": 44,
      "outputs": [
        {
          "output_type": "execute_result",
          "data": {
            "text/plain": [
              "   gender property_type  count\n",
              "0       0     apartment    114\n",
              "1       0         house     98\n",
              "2       0        studio     87\n",
              "3       1     apartment     34\n",
              "4       1         house     16\n",
              "5       1        studio     17"
            ],
            "text/html": [
              "\n",
              "  <div id=\"df-0f637f50-61a9-424f-bb13-68101cdf929d\">\n",
              "    <div class=\"colab-df-container\">\n",
              "      <div>\n",
              "<style scoped>\n",
              "    .dataframe tbody tr th:only-of-type {\n",
              "        vertical-align: middle;\n",
              "    }\n",
              "\n",
              "    .dataframe tbody tr th {\n",
              "        vertical-align: top;\n",
              "    }\n",
              "\n",
              "    .dataframe thead th {\n",
              "        text-align: right;\n",
              "    }\n",
              "</style>\n",
              "<table border=\"1\" class=\"dataframe\">\n",
              "  <thead>\n",
              "    <tr style=\"text-align: right;\">\n",
              "      <th></th>\n",
              "      <th>gender</th>\n",
              "      <th>property_type</th>\n",
              "      <th>count</th>\n",
              "    </tr>\n",
              "  </thead>\n",
              "  <tbody>\n",
              "    <tr>\n",
              "      <th>0</th>\n",
              "      <td>0</td>\n",
              "      <td>apartment</td>\n",
              "      <td>114</td>\n",
              "    </tr>\n",
              "    <tr>\n",
              "      <th>1</th>\n",
              "      <td>0</td>\n",
              "      <td>house</td>\n",
              "      <td>98</td>\n",
              "    </tr>\n",
              "    <tr>\n",
              "      <th>2</th>\n",
              "      <td>0</td>\n",
              "      <td>studio</td>\n",
              "      <td>87</td>\n",
              "    </tr>\n",
              "    <tr>\n",
              "      <th>3</th>\n",
              "      <td>1</td>\n",
              "      <td>apartment</td>\n",
              "      <td>34</td>\n",
              "    </tr>\n",
              "    <tr>\n",
              "      <th>4</th>\n",
              "      <td>1</td>\n",
              "      <td>house</td>\n",
              "      <td>16</td>\n",
              "    </tr>\n",
              "    <tr>\n",
              "      <th>5</th>\n",
              "      <td>1</td>\n",
              "      <td>studio</td>\n",
              "      <td>17</td>\n",
              "    </tr>\n",
              "  </tbody>\n",
              "</table>\n",
              "</div>\n",
              "      <button class=\"colab-df-convert\" onclick=\"convertToInteractive('df-0f637f50-61a9-424f-bb13-68101cdf929d')\"\n",
              "              title=\"Convert this dataframe to an interactive table.\"\n",
              "              style=\"display:none;\">\n",
              "        \n",
              "  <svg xmlns=\"http://www.w3.org/2000/svg\" height=\"24px\"viewBox=\"0 0 24 24\"\n",
              "       width=\"24px\">\n",
              "    <path d=\"M0 0h24v24H0V0z\" fill=\"none\"/>\n",
              "    <path d=\"M18.56 5.44l.94 2.06.94-2.06 2.06-.94-2.06-.94-.94-2.06-.94 2.06-2.06.94zm-11 1L8.5 8.5l.94-2.06 2.06-.94-2.06-.94L8.5 2.5l-.94 2.06-2.06.94zm10 10l.94 2.06.94-2.06 2.06-.94-2.06-.94-.94-2.06-.94 2.06-2.06.94z\"/><path d=\"M17.41 7.96l-1.37-1.37c-.4-.4-.92-.59-1.43-.59-.52 0-1.04.2-1.43.59L10.3 9.45l-7.72 7.72c-.78.78-.78 2.05 0 2.83L4 21.41c.39.39.9.59 1.41.59.51 0 1.02-.2 1.41-.59l7.78-7.78 2.81-2.81c.8-.78.8-2.07 0-2.86zM5.41 20L4 18.59l7.72-7.72 1.47 1.35L5.41 20z\"/>\n",
              "  </svg>\n",
              "      </button>\n",
              "      \n",
              "  <style>\n",
              "    .colab-df-container {\n",
              "      display:flex;\n",
              "      flex-wrap:wrap;\n",
              "      gap: 12px;\n",
              "    }\n",
              "\n",
              "    .colab-df-convert {\n",
              "      background-color: #E8F0FE;\n",
              "      border: none;\n",
              "      border-radius: 50%;\n",
              "      cursor: pointer;\n",
              "      display: none;\n",
              "      fill: #1967D2;\n",
              "      height: 32px;\n",
              "      padding: 0 0 0 0;\n",
              "      width: 32px;\n",
              "    }\n",
              "\n",
              "    .colab-df-convert:hover {\n",
              "      background-color: #E2EBFA;\n",
              "      box-shadow: 0px 1px 2px rgba(60, 64, 67, 0.3), 0px 1px 3px 1px rgba(60, 64, 67, 0.15);\n",
              "      fill: #174EA6;\n",
              "    }\n",
              "\n",
              "    [theme=dark] .colab-df-convert {\n",
              "      background-color: #3B4455;\n",
              "      fill: #D2E3FC;\n",
              "    }\n",
              "\n",
              "    [theme=dark] .colab-df-convert:hover {\n",
              "      background-color: #434B5C;\n",
              "      box-shadow: 0px 1px 3px 1px rgba(0, 0, 0, 0.15);\n",
              "      filter: drop-shadow(0px 1px 2px rgba(0, 0, 0, 0.3));\n",
              "      fill: #FFFFFF;\n",
              "    }\n",
              "  </style>\n",
              "\n",
              "      <script>\n",
              "        const buttonEl =\n",
              "          document.querySelector('#df-0f637f50-61a9-424f-bb13-68101cdf929d button.colab-df-convert');\n",
              "        buttonEl.style.display =\n",
              "          google.colab.kernel.accessAllowed ? 'block' : 'none';\n",
              "\n",
              "        async function convertToInteractive(key) {\n",
              "          const element = document.querySelector('#df-0f637f50-61a9-424f-bb13-68101cdf929d');\n",
              "          const dataTable =\n",
              "            await google.colab.kernel.invokeFunction('convertToInteractive',\n",
              "                                                     [key], {});\n",
              "          if (!dataTable) return;\n",
              "\n",
              "          const docLinkHtml = 'Like what you see? Visit the ' +\n",
              "            '<a target=\"_blank\" href=https://colab.research.google.com/notebooks/data_table.ipynb>data table notebook</a>'\n",
              "            + ' to learn more about interactive tables.';\n",
              "          element.innerHTML = '';\n",
              "          dataTable['output_type'] = 'display_data';\n",
              "          await google.colab.output.renderOutput(dataTable, element);\n",
              "          const docLink = document.createElement('div');\n",
              "          docLink.innerHTML = docLinkHtml;\n",
              "          element.appendChild(docLink);\n",
              "        }\n",
              "      </script>\n",
              "    </div>\n",
              "  </div>\n",
              "  "
            ]
          },
          "metadata": {},
          "execution_count": 44
        }
      ]
    },
    {
      "cell_type": "code",
      "source": [
        "sns.set(style=\"whitegrid\")\n",
        "f, ax = plt.subplots(1,1,figsize=(12,8))\n",
        "sns.countplot(x = 'property_type', data = df, hue = 'gender', palette = \"Set2\")\n",
        "\n",
        "for bar in ax.patches:\n",
        "    bar_value = bar.get_height()\n",
        "    text = f'{bar_value:,}'\n",
        "    text_x = bar.get_x() + bar.get_width() / 2\n",
        "    text_y = bar.get_y() + bar_value\n",
        "    bar_color = bar.get_facecolor()\n",
        "    ax.text(text_x, text_y, text, ha='center', va='bottom', color='black', size=12)\n",
        "    \n",
        "ax.set_xlabel('Property Type', labelpad=15)\n",
        "ax.set_ylabel('Count', labelpad=15)\n",
        "ax.set_title('Apartment is the most popular property type \\nfor both male and female customers', pad=15, size=20)\n",
        "plt.tight_layout() \n",
        "plt.savefig('Analyze_the_behavior_of_loan_property_customers_01.png', dpi=200);"
      ],
      "metadata": {
        "colab": {
          "base_uri": "https://localhost:8080/",
          "height": 581
        },
        "id": "tu7Rmx4klDXE",
        "outputId": "a502c9a1-2675-4531-8d56-b6a5bc76ad88"
      },
      "id": "tu7Rmx4klDXE",
      "execution_count": 46,
      "outputs": [
        {
          "output_type": "display_data",
          "data": {
            "text/plain": [
              "<Figure size 864x576 with 1 Axes>"
            ],
            "image/png": "[encoded data removed]"
          },
          "metadata": {}
        }
      ]
    },
    {
      "cell_type": "markdown",
      "id": "c43363d1",
      "metadata": {
        "id": "c43363d1"
      },
      "source": [
        "## Analysis of the influence of marital status on the term of the loan "
      ]
    },
    {
      "cell_type": "code",
      "source": [
        "dfmarried = df.groupby(['married', 'loan_term_year'])['loan_id'].count().reset_index()\n",
        "dfmarried.columns = ['married', 'loan_term_year', 'number_of_applicant']\n",
        "dfmarried"
      ],
      "metadata": {
        "colab": {
          "base_uri": "https://localhost:8080/",
          "height": 520
        },
        "id": "LM9d5yQQD41W",
        "outputId": "c1ae19cc-70fc-4f3f-d53f-f5d39aadcb14"
      },
      "id": "LM9d5yQQD41W",
      "execution_count": 47,
      "outputs": [
        {
          "output_type": "execute_result",
          "data": {
            "text/plain": [
              "   married  loan_term_year  number_of_applicant\n",
              "0       No               3                    2\n",
              "1       No               5                    1\n",
              "2       No              10                    1\n",
              "3       No              15                    4\n",
              "4       No              25                    3\n",
              "5       No              30                  119\n",
              "6       No              40                    6\n",
              "7      Yes               5                    1\n",
              "8      Yes               7                    3\n",
              "9      Yes              10                    1\n",
              "10     Yes              15                   22\n",
              "11     Yes              20                    2\n",
              "12     Yes              25                    5\n",
              "13     Yes              30                  191\n",
              "14     Yes              40                    5"
            ],
            "text/html": [
              "\n",
              "  <div id=\"df-2d57133e-869b-4f95-98a5-1cbeb1e0221a\">\n",
              "    <div class=\"colab-df-container\">\n",
              "      <div>\n",
              "<style scoped>\n",
              "    .dataframe tbody tr th:only-of-type {\n",
              "        vertical-align: middle;\n",
              "    }\n",
              "\n",
              "    .dataframe tbody tr th {\n",
              "        vertical-align: top;\n",
              "    }\n",
              "\n",
              "    .dataframe thead th {\n",
              "        text-align: right;\n",
              "    }\n",
              "</style>\n",
              "<table border=\"1\" class=\"dataframe\">\n",
              "  <thead>\n",
              "    <tr style=\"text-align: right;\">\n",
              "      <th></th>\n",
              "      <th>married</th>\n",
              "      <th>loan_term_year</th>\n",
              "      <th>number_of_applicant</th>\n",
              "    </tr>\n",
              "  </thead>\n",
              "  <tbody>\n",
              "    <tr>\n",
              "      <th>0</th>\n",
              "      <td>No</td>\n",
              "      <td>3</td>\n",
              "      <td>2</td>\n",
              "    </tr>\n",
              "    <tr>\n",
              "      <th>1</th>\n",
              "      <td>No</td>\n",
              "      <td>5</td>\n",
              "      <td>1</td>\n",
              "    </tr>\n",
              "    <tr>\n",
              "      <th>2</th>\n",
              "      <td>No</td>\n",
              "      <td>10</td>\n",
              "      <td>1</td>\n",
              "    </tr>\n",
              "    <tr>\n",
              "      <th>3</th>\n",
              "      <td>No</td>\n",
              "      <td>15</td>\n",
              "      <td>4</td>\n",
              "    </tr>\n",
              "    <tr>\n",
              "      <th>4</th>\n",
              "      <td>No</td>\n",
              "      <td>25</td>\n",
              "      <td>3</td>\n",
              "    </tr>\n",
              "    <tr>\n",
              "      <th>5</th>\n",
              "      <td>No</td>\n",
              "      <td>30</td>\n",
              "      <td>119</td>\n",
              "    </tr>\n",
              "    <tr>\n",
              "      <th>6</th>\n",
              "      <td>No</td>\n",
              "      <td>40</td>\n",
              "      <td>6</td>\n",
              "    </tr>\n",
              "    <tr>\n",
              "      <th>7</th>\n",
              "      <td>Yes</td>\n",
              "      <td>5</td>\n",
              "      <td>1</td>\n",
              "    </tr>\n",
              "    <tr>\n",
              "      <th>8</th>\n",
              "      <td>Yes</td>\n",
              "      <td>7</td>\n",
              "      <td>3</td>\n",
              "    </tr>\n",
              "    <tr>\n",
              "      <th>9</th>\n",
              "      <td>Yes</td>\n",
              "      <td>10</td>\n",
              "      <td>1</td>\n",
              "    </tr>\n",
              "    <tr>\n",
              "      <th>10</th>\n",
              "      <td>Yes</td>\n",
              "      <td>15</td>\n",
              "      <td>22</td>\n",
              "    </tr>\n",
              "    <tr>\n",
              "      <th>11</th>\n",
              "      <td>Yes</td>\n",
              "      <td>20</td>\n",
              "      <td>2</td>\n",
              "    </tr>\n",
              "    <tr>\n",
              "      <th>12</th>\n",
              "      <td>Yes</td>\n",
              "      <td>25</td>\n",
              "      <td>5</td>\n",
              "    </tr>\n",
              "    <tr>\n",
              "      <th>13</th>\n",
              "      <td>Yes</td>\n",
              "      <td>30</td>\n",
              "      <td>191</td>\n",
              "    </tr>\n",
              "    <tr>\n",
              "      <th>14</th>\n",
              "      <td>Yes</td>\n",
              "      <td>40</td>\n",
              "      <td>5</td>\n",
              "    </tr>\n",
              "  </tbody>\n",
              "</table>\n",
              "</div>\n",
              "      <button class=\"colab-df-convert\" onclick=\"convertToInteractive('df-2d57133e-869b-4f95-98a5-1cbeb1e0221a')\"\n",
              "              title=\"Convert this dataframe to an interactive table.\"\n",
              "              style=\"display:none;\">\n",
              "        \n",
              "  <svg xmlns=\"http://www.w3.org/2000/svg\" height=\"24px\"viewBox=\"0 0 24 24\"\n",
              "       width=\"24px\">\n",
              "    <path d=\"M0 0h24v24H0V0z\" fill=\"none\"/>\n",
              "    <path d=\"M18.56 5.44l.94 2.06.94-2.06 2.06-.94-2.06-.94-.94-2.06-.94 2.06-2.06.94zm-11 1L8.5 8.5l.94-2.06 2.06-.94-2.06-.94L8.5 2.5l-.94 2.06-2.06.94zm10 10l.94 2.06.94-2.06 2.06-.94-2.06-.94-.94-2.06-.94 2.06-2.06.94z\"/><path d=\"M17.41 7.96l-1.37-1.37c-.4-.4-.92-.59-1.43-.59-.52 0-1.04.2-1.43.59L10.3 9.45l-7.72 7.72c-.78.78-.78 2.05 0 2.83L4 21.41c.39.39.9.59 1.41.59.51 0 1.02-.2 1.41-.59l7.78-7.78 2.81-2.81c.8-.78.8-2.07 0-2.86zM5.41 20L4 18.59l7.72-7.72 1.47 1.35L5.41 20z\"/>\n",
              "  </svg>\n",
              "      </button>\n",
              "      \n",
              "  <style>\n",
              "    .colab-df-container {\n",
              "      display:flex;\n",
              "      flex-wrap:wrap;\n",
              "      gap: 12px;\n",
              "    }\n",
              "\n",
              "    .colab-df-convert {\n",
              "      background-color: #E8F0FE;\n",
              "      border: none;\n",
              "      border-radius: 50%;\n",
              "      cursor: pointer;\n",
              "      display: none;\n",
              "      fill: #1967D2;\n",
              "      height: 32px;\n",
              "      padding: 0 0 0 0;\n",
              "      width: 32px;\n",
              "    }\n",
              "\n",
              "    .colab-df-convert:hover {\n",
              "      background-color: #E2EBFA;\n",
              "      box-shadow: 0px 1px 2px rgba(60, 64, 67, 0.3), 0px 1px 3px 1px rgba(60, 64, 67, 0.15);\n",
              "      fill: #174EA6;\n",
              "    }\n",
              "\n",
              "    [theme=dark] .colab-df-convert {\n",
              "      background-color: #3B4455;\n",
              "      fill: #D2E3FC;\n",
              "    }\n",
              "\n",
              "    [theme=dark] .colab-df-convert:hover {\n",
              "      background-color: #434B5C;\n",
              "      box-shadow: 0px 1px 3px 1px rgba(0, 0, 0, 0.15);\n",
              "      filter: drop-shadow(0px 1px 2px rgba(0, 0, 0, 0.3));\n",
              "      fill: #FFFFFF;\n",
              "    }\n",
              "  </style>\n",
              "\n",
              "      <script>\n",
              "        const buttonEl =\n",
              "          document.querySelector('#df-2d57133e-869b-4f95-98a5-1cbeb1e0221a button.colab-df-convert');\n",
              "        buttonEl.style.display =\n",
              "          google.colab.kernel.accessAllowed ? 'block' : 'none';\n",
              "\n",
              "        async function convertToInteractive(key) {\n",
              "          const element = document.querySelector('#df-2d57133e-869b-4f95-98a5-1cbeb1e0221a');\n",
              "          const dataTable =\n",
              "            await google.colab.kernel.invokeFunction('convertToInteractive',\n",
              "                                                     [key], {});\n",
              "          if (!dataTable) return;\n",
              "\n",
              "          const docLinkHtml = 'Like what you see? Visit the ' +\n",
              "            '<a target=\"_blank\" href=https://colab.research.google.com/notebooks/data_table.ipynb>data table notebook</a>'\n",
              "            + ' to learn more about interactive tables.';\n",
              "          element.innerHTML = '';\n",
              "          dataTable['output_type'] = 'display_data';\n",
              "          await google.colab.output.renderOutput(dataTable, element);\n",
              "          const docLink = document.createElement('div');\n",
              "          docLink.innerHTML = docLinkHtml;\n",
              "          element.appendChild(docLink);\n",
              "        }\n",
              "      </script>\n",
              "    </div>\n",
              "  </div>\n",
              "  "
            ]
          },
          "metadata": {},
          "execution_count": 47
        }
      ]
    },
    {
      "cell_type": "code",
      "source": [
        "sns.histplot(data=df, x=\"loan_term_year\", bins=10, color=\"green\")"
      ],
      "metadata": {
        "colab": {
          "base_uri": "https://localhost:8080/",
          "height": 302
        },
        "id": "5hG6lpbHEHfB",
        "outputId": "ca9f9b65-5c31-4e32-ce7d-34f144e08ba3"
      },
      "id": "5hG6lpbHEHfB",
      "execution_count": 48,
      "outputs": [
        {
          "output_type": "execute_result",
          "data": {
            "text/plain": [
              "<matplotlib.axes._subplots.AxesSubplot at 0x7ffb01151370>"
            ]
          },
          "metadata": {},
          "execution_count": 48
        },
        {
          "output_type": "display_data",
          "data": {
            "text/plain": [
              "<Figure size 432x288 with 1 Axes>"
            ],
            "image/png": "[encoded data removed]"
          },
          "metadata": {}
        }
      ]
    },
    {
      "cell_type": "markdown",
      "source": [
        "Based on the graph above, we can group the data into several categories:\n",
        "\n",
        "- `<15`\n",
        "- `15-25`\n",
        "- `30`\n",
        "- `>30`\n",
        "\n",
        "\n",
        "\n",
        "\n",
        "\n",
        "\n"
      ],
      "metadata": {
        "id": "KRm-pjUxEUWR"
      },
      "id": "KRm-pjUxEUWR"
    },
    {
      "cell_type": "code",
      "source": [
        "loan_term_year_group = {}\n",
        "for i in range(1,41):\n",
        "    if i<15:\n",
        "        loan_term_year_group[i]= '<15'\n",
        "    elif i>=15 and i<=25:\n",
        "        loan_term_year_group[i]= '15-25'\n",
        "    elif i==30:\n",
        "        loan_term_year_group[i]= '30'\n",
        "    elif i>30:\n",
        "        loan_term_year_group[i]= '>30'\n",
        "    else:\n",
        "        pass\n",
        "    \n",
        "dfmarried['loan_term_year_group'] = dfmarried['loan_term_year'].replace(loan_term_year_group)"
      ],
      "metadata": {
        "id": "vijGqoWJFV6i"
      },
      "id": "vijGqoWJFV6i",
      "execution_count": 49,
      "outputs": []
    },
    {
      "cell_type": "code",
      "source": [
        "plt.figure(figsize=(15,10))\n",
        "sns.set(style=\"whitegrid\")\n",
        "sns.barplot(x='loan_term_year_group', y='number_of_applicant', hue='married', data=dfmarried)\n",
        "\n",
        "plt.tick_params(axis='both', which='major', labelsize=12)\n",
        "plt.grid()\n",
        "plt.legend(title='Married Status', title_fontsize=14, prop={'size':12}, loc=9)\n",
        "\n",
        "plt.xlabel('Loan Term Group (in Year)', fontsize=14)\n",
        "plt.ylabel('Number of Applicant', fontsize=14)\n",
        "plt.text(x=-0.5, y=205, s=\"Most applicants who are married or not have chosen a loan term of 30 years\", \n",
        "         fontsize=20, fontweight='bold') "
      ],
      "metadata": {
        "colab": {
          "base_uri": "https://localhost:8080/",
          "height": 659
        },
        "id": "4lbl7q-1Fx0x",
        "outputId": "cd077099-3221-4d43-93a9-acdad2d6a699"
      },
      "id": "4lbl7q-1Fx0x",
      "execution_count": 50,
      "outputs": [
        {
          "output_type": "execute_result",
          "data": {
            "text/plain": [
              "Text(-0.5, 205, 'Most applicants who are married or not have chosen a loan term of 30 years')"
            ]
          },
          "metadata": {},
          "execution_count": 50
        },
        {
          "output_type": "display_data",
          "data": {
            "text/plain": [
              "<Figure size 1080x720 with 1 Axes>"
            ],
            "image/png": "[encoded data removed]"
          },
          "metadata": {}
        }
      ]
    }
  ],
  "metadata": {
    "kernelspec": {
      "display_name": "Python 3 (ipykernel)",
      "language": "python",
      "name": "python3"
    },
    "language_info": {
      "codemirror_mode": {
        "name": "ipython",
        "version": 3
      },
      "file_extension": ".py",
      "mimetype": "text/x-python",
      "name": "python",
      "nbconvert_exporter": "python",
      "pygments_lexer": "ipython3",
      "version": "3.9.6"
    },
    "colab": {
      "provenance": [],
      "toc_visible": true
    }
  },
  "nbformat": 4,
  "nbformat_minor": 5
}